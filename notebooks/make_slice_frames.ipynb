{
 "cells": [
  {
   "cell_type": "code",
   "execution_count": 21,
   "metadata": {},
   "outputs": [],
   "source": [
    "import numpy as np\n",
    "import matplotlib.pyplot as plt\n",
    "import pickle\n",
    "\n",
    "import sys\n",
    "sys.path.append('..')\n",
    "\n",
    "import mesh_process\n",
    "\n",
    "import seaborn as sns\n",
    "sns.set_style('darkgrid')"
   ]
  },
  {
   "cell_type": "code",
   "execution_count": 6,
   "metadata": {},
   "outputs": [],
   "source": [
    "with open(b'../data/dense_slices_dict.pickle', 'rb') as slice_pickle:\n",
    "    slices = pickle.load(slice_pickle)"
   ]
  },
  {
   "cell_type": "code",
   "execution_count": 35,
   "metadata": {
    "scrolled": false
   },
   "outputs": [],
   "source": [
    "n_show = 10  # number of slices to show in each fig\n",
    "alphas = np.geomspace(0.01, 0.35, n_show)  # transparencies of previous slices\n",
    "\n",
    "dist_keys = np.array(list(slices.keys()))\n",
    "cumdist = np.cumsum(dist_keys)\n",
    "\n",
    "x_lims, y_lims = (0,145), (1470,1615)\n",
    "\n",
    "for i in range(n_show, dist_keys.size):\n",
    "    fig, ax = plt.subplots(figsize=(30,30))\n",
    "    ax.set_aspect('equal')\n",
    "    ax.set_xlim(*x_lims); ax.set_ylim(*y_lims)\n",
    "    ax.tick_params(size=18)\n",
    "    \n",
    "    title_str = 'Weathering Profile Sequence [Cumulative Dist = {:3.1f}]'.format(dist_keys[i])\n",
    "    ax.set_title(title_str, size=45)\n",
    "    ax.set_xlabel('Recess', size=35)\n",
    "    ax.set_ylabel('Elevation', size=35)\n",
    "    \n",
    "    for k, a in zip(dist_keys[i-n_show:i], alphas):\n",
    "        slc = slices[k]\n",
    "        z = slc['zs']; d = slc['ds']; clr = slc['clr'];\n",
    "        ax.scatter(d, z, c=clr/255.0, s=3.5, alpha=a)\n",
    "    \n",
    "    plt.savefig('../data/slice_figs/{0:03d}.png'.format(int(dist_keys[i])))\n",
    "    plt.close()"
   ]
  },
  {
   "cell_type": "code",
   "execution_count": null,
   "metadata": {},
   "outputs": [],
   "source": []
  },
  {
   "cell_type": "code",
   "execution_count": 34,
   "metadata": {},
   "outputs": [
    {
     "data": {
      "text/plain": [
       "array([ 0.01      ,  0.01484442,  0.02203567,  0.03271066,  0.04855707,\n",
       "        0.07208013,  0.10699875,  0.15883339,  0.2357789 ,  0.35      ])"
      ]
     },
     "execution_count": 34,
     "metadata": {},
     "output_type": "execute_result"
    }
   ],
   "source": [
    "np.geomspace(0.01, 0.35, 10)"
   ]
  },
  {
   "cell_type": "code",
   "execution_count": null,
   "metadata": {},
   "outputs": [],
   "source": []
  },
  {
   "cell_type": "code",
   "execution_count": null,
   "metadata": {},
   "outputs": [],
   "source": []
  }
 ],
 "metadata": {
  "kernelspec": {
   "display_name": "Python 3",
   "language": "python",
   "name": "python3"
  },
  "language_info": {
   "codemirror_mode": {
    "name": "ipython",
    "version": 3
   },
   "file_extension": ".py",
   "mimetype": "text/x-python",
   "name": "python",
   "nbconvert_exporter": "python",
   "pygments_lexer": "ipython3",
   "version": "3.6.4"
  }
 },
 "nbformat": 4,
 "nbformat_minor": 2
}
