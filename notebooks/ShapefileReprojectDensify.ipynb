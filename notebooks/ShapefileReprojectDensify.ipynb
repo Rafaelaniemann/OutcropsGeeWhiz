{
 "cells": [
  {
   "cell_type": "code",
   "execution_count": 174,
   "metadata": {},
   "outputs": [],
   "source": [
    "import numpy as np\n",
    "import sys\n",
    "sys.path.append('/Users/zanejobe/Dropbox/GitHub/pyshp') #the directory that contains package\n",
    "\n",
    "import shapefile\n",
    "shp = shapefile.Reader(\"/Users/zanejobe/Desktop/hackathon_models/proximal_small_points_outcrop_line.shp\") # Kenilworth\n",
    "#shp = shapefile.Reader(\"/Users/zanejobe/Desktop/hackathon_models/modelo_outcrop_line.shp\") # Modelo\n",
    "\n",
    "shapes = shp.shapes() # to display results, type: shapes[0].points\n",
    "\n",
    "## STUFF TO MODIFY\n",
    "shapename='KenilworthProxSmall' # this is the filename for exporting a txt file\n",
    "exportpath='/Users/zanejobe/Dropbox/1 Core Photo ML/_hackathon/' # this is where you want to save the txt file"
   ]
  },
  {
   "cell_type": "code",
   "execution_count": 175,
   "metadata": {},
   "outputs": [],
   "source": [
    "lon=[coords[0] for coords in shapes[0].points] # pulls the long values out\n",
    "lat=[coords[1] for coords in shapes[0].points] # pulls the lat values out\n",
    "\n",
    "# http://all-geo.org/volcan01010/2012/11/change-coordinates-with-pyproj/\n",
    "import pyproj # use \"pip install pyproj\" from the command line to install this library (only need to do once)\n",
    "\n",
    "wgs84=pyproj.Proj(\"+init=EPSG:4326\") # LatLon with WGS84 datum used by GPS units and Google Earth\n",
    "UTM11N=pyproj.Proj(\"+init=EPSG:32611\") # UTM coords, zone 11N, WGS84 datum\n",
    "\n",
    "UTMx,UTMy=pyproj.transform(wgs84, UTM11N, lon, lat) # convert from lat long to UTM11N\n",
    "\n",
    "# now export to text file\n",
    "np.savetxt(exportpath + shapename + '.dat', np.array(list(zip(UTMx,UTMy))))"
   ]
  },
  {
   "cell_type": "code",
   "execution_count": 176,
   "metadata": {},
   "outputs": [
    {
     "data": {
      "image/png": "[encoded data removed]",
      "text/plain": [
       "<matplotlib.figure.Figure at 0x18201b0390>"
      ]
     },
     "metadata": {},
     "output_type": "display_data"
    }
   ],
   "source": [
    "# get them into approximately evenly spaced values (can interparc be called in python?)\n",
    "\n",
    "# https://stackoverflow.com/questions/19117660/how-to-generate-equispaced-interpolating-values\n",
    "import math\n",
    "M = 1000\n",
    "t = np.linspace(0, len(UTMx), M)\n",
    "x = np.interp(t, np.arange(len(UTMx)), UTMx)\n",
    "y = np.interp(t, np.arange(len(UTMy)), UTMy)\n",
    "tol = 1.5\n",
    "i, idx = 0, [0]\n",
    "while i < len(x):\n",
    "    total_dist = 0\n",
    "    for j in range(i+1, len(x)):\n",
    "        total_dist += math.sqrt((x[j]-x[j-1])**2 + (y[j]-y[j-1])**2)\n",
    "        if total_dist > tol:\n",
    "            idx.append(j)\n",
    "            break\n",
    "    i = j+1\n",
    "\n",
    "xn = x[idx] # densified x values \n",
    "yn = y[idx] # densified y values \n",
    "\n",
    "plt.plot(xn, yn, '.')\n",
    "plt.plot(UTMx, UTMy, '*')\n",
    "#ax.set_aspect('equal')\n",
    "plt.show()"
   ]
  },
  {
   "cell_type": "code",
   "execution_count": 177,
   "metadata": {},
   "outputs": [],
   "source": [
    "# export densified points\n",
    "np.savetxt(exportpath + shapename + 'Dense.dat', np.array(list(zip(xn,yn))))"
   ]
  },
  {
   "cell_type": "code",
   "execution_count": 149,
   "metadata": {},
   "outputs": [
    {
     "ename": "TypeError",
     "evalue": "only size-1 arrays can be converted to Python scalars",
     "output_type": "error",
     "traceback": [
      "\u001b[0;31m---------------------------------------------------------------------------\u001b[0m",
      "\u001b[0;31mTypeError\u001b[0m                                 Traceback (most recent call last)",
      "\u001b[0;32m<ipython-input-149-f685f9b6080d>\u001b[0m in \u001b[0;36m<module>\u001b[0;34m()\u001b[0m\n\u001b[1;32m      1\u001b[0m \u001b[0;31m# how to vectorize this?\u001b[0m\u001b[0;34m\u001b[0m\u001b[0;34m\u001b[0m\u001b[0m\n\u001b[0;32m----> 2\u001b[0;31m \u001b[0mdistance_xy\u001b[0m\u001b[0;34m=\u001b[0m\u001b[0mmath\u001b[0m\u001b[0;34m.\u001b[0m\u001b[0msqrt\u001b[0m\u001b[0;34m(\u001b[0m\u001b[0;34m(\u001b[0m\u001b[0mxn\u001b[0m\u001b[0;34m[\u001b[0m\u001b[0;36m1\u001b[0m\u001b[0;34m:\u001b[0m\u001b[0;34m]\u001b[0m\u001b[0;34m-\u001b[0m\u001b[0mxn\u001b[0m\u001b[0;34m[\u001b[0m\u001b[0;36m0\u001b[0m\u001b[0;34m:\u001b[0m\u001b[0mlen\u001b[0m\u001b[0;34m(\u001b[0m\u001b[0mxn\u001b[0m\u001b[0;34m)\u001b[0m\u001b[0;34m-\u001b[0m\u001b[0;36m1\u001b[0m\u001b[0;34m]\u001b[0m\u001b[0;34m)\u001b[0m\u001b[0;34m**\u001b[0m\u001b[0;36m2\u001b[0m \u001b[0;34m+\u001b[0m \u001b[0;34m(\u001b[0m\u001b[0myn\u001b[0m\u001b[0;34m[\u001b[0m\u001b[0;36m1\u001b[0m\u001b[0;34m:\u001b[0m\u001b[0;34m]\u001b[0m\u001b[0;34m-\u001b[0m\u001b[0myn\u001b[0m\u001b[0;34m[\u001b[0m\u001b[0;36m0\u001b[0m\u001b[0;34m:\u001b[0m\u001b[0mlen\u001b[0m\u001b[0;34m(\u001b[0m\u001b[0mxn\u001b[0m\u001b[0;34m)\u001b[0m\u001b[0;34m-\u001b[0m\u001b[0;36m1\u001b[0m\u001b[0;34m]\u001b[0m\u001b[0;34m)\u001b[0m\u001b[0;34m**\u001b[0m\u001b[0;36m2\u001b[0m\u001b[0;34m)\u001b[0m\u001b[0;34m\u001b[0m\u001b[0m\n\u001b[0m",
      "\u001b[0;31mTypeError\u001b[0m: only size-1 arrays can be converted to Python scalars"
     ]
    }
   ],
   "source": [
    "## STILL WORKING BELOW HERE\n",
    "\n",
    "# check the distance pairs to make sure equal spacing \n",
    "\n",
    "# make sure they are evenly spaced\n",
    "i=4\n",
    "d=math.sqrt((xn[i+1]-xn[i])**2 + (yn[i+1]-yn[i])**2)\n",
    "print(d)\n",
    "\n",
    "# # # # # # # how to vectorize this?\n",
    "distance_xy=math.sqrt((xn[1:]-xn[0:len(xn)-1])**2 + (yn[1:]-yn[0:len(xn)-1])**2)\n"
   ]
  }
 ],
 "metadata": {
  "kernelspec": {
   "display_name": "Python 3",
   "language": "python",
   "name": "python3"
  },
  "language_info": {
   "codemirror_mode": {
    "name": "ipython",
    "version": 3
   },
   "file_extension": ".py",
   "mimetype": "text/x-python",
   "name": "python",
   "nbconvert_exporter": "python",
   "pygments_lexer": "ipython3",
   "version": "3.6.4"
  }
 },
 "nbformat": 4,
 "nbformat_minor": 2
}
