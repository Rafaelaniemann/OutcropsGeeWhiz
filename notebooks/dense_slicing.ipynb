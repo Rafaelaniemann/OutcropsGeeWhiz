{
 "cells": [
  {
   "cell_type": "code",
   "execution_count": 1,
   "metadata": {},
   "outputs": [],
   "source": [
    "import numpy as np\n",
    "import sys\n",
    "sys.path.append('..')\n",
    "\n",
    "import mesh_process"
   ]
  },
  {
   "cell_type": "code",
   "execution_count": 2,
   "metadata": {},
   "outputs": [],
   "source": [
    "coords, rgb = mesh_process.load_ascii_pts('../data/proximal_small_points_ascii_xyzrgba.pts')\n",
    "xy_coords = mesh_process.np.loadtxt('../data/prox_small_UTMxy_pairs_dense.dat')"
   ]
  },
  {
   "cell_type": "code",
   "execution_count": 3,
   "metadata": {},
   "outputs": [
    {
     "data": {
      "text/plain": [
       "((994173, 3), (994173, 3), (179, 2))"
      ]
     },
     "execution_count": 3,
     "metadata": {},
     "output_type": "execute_result"
    }
   ],
   "source": [
    "coords.shape, rgb.shape, xy_coords.shape"
   ]
  },
  {
   "cell_type": "code",
   "execution_count": 4,
   "metadata": {
    "scrolled": false
   },
   "outputs": [
    {
     "name": "stdout",
     "output_type": "stream",
     "text": [
      "Step:  0 \tAt cumulative distance:  0.0\n",
      "Step:  1 \tAt cumulative distance:  1.6643852302805047\n",
      "Step:  2 \tAt cumulative distance:  3.883565537329341\n",
      "Step:  3 \tAt cumulative distance:  6.102745844120937\n",
      "Step:  4 \tAt cumulative distance:  8.321926151169773\n",
      "Step:  5 \tAt cumulative distance:  10.541106458218609\n",
      "Step:  6 \tAt cumulative distance:  12.760286765010205\n",
      "Step:  7 \tAt cumulative distance:  14.979467072059041\n",
      "Step:  8 \tAt cumulative distance:  17.19864737910788\n",
      "Step:  9 \tAt cumulative distance:  19.417827686132224\n",
      "Step:  10 \tAt cumulative distance:  21.63700799294831\n",
      "Step:  11 \tAt cumulative distance:  23.856188299997147\n",
      "Step:  12 \tAt cumulative distance:  26.075368607021492\n",
      "Step:  13 \tAt cumulative distance:  28.29454891407033\n",
      "Step:  14 \tAt cumulative distance:  30.513729220886415\n",
      "Step:  15 \tAt cumulative distance:  32.73290952791076\n",
      "Step:  16 \tAt cumulative distance:  34.9520898349596\n",
      "Step:  17 \tAt cumulative distance:  37.171270141775686\n",
      "Step:  18 \tAt cumulative distance:  39.39045044880003\n",
      "Step:  19 \tAt cumulative distance:  41.60963075584887\n",
      "Step:  20 \tAt cumulative distance:  43.82881106289771\n",
      "Step:  21 \tAt cumulative distance:  46.0479913696893\n",
      "Step:  22 \tAt cumulative distance:  48.26717167673814\n",
      "Step:  23 \tAt cumulative distance:  50.486351983786975\n",
      "Step:  24 \tAt cumulative distance:  52.70553229081132\n",
      "Step:  25 \tAt cumulative distance:  54.924712597627405\n",
      "Step:  26 \tAt cumulative distance:  57.14389290467624\n",
      "Step:  27 \tAt cumulative distance:  59.36307321170059\n",
      "Step:  28 \tAt cumulative distance:  61.58225351851667\n",
      "Step:  29 \tAt cumulative distance:  63.80143382556551\n",
      "Step:  30 \tAt cumulative distance:  66.02061413258986\n",
      "Step:  31 \tAt cumulative distance:  68.23979443963869\n",
      "Step:  32 \tAt cumulative distance:  70.45897474645477\n",
      "Step:  33 \tAt cumulative distance:  72.67815505347912\n",
      "Step:  34 \tAt cumulative distance:  74.89733536052795\n",
      "Step:  35 \tAt cumulative distance:  77.11651566757678\n",
      "Step:  36 \tAt cumulative distance:  79.33569597436838\n",
      "Step:  37 \tAt cumulative distance:  81.55487628141721\n",
      "Step:  38 \tAt cumulative distance:  83.77405658846604\n",
      "Step:  39 \tAt cumulative distance:  85.99323689525764\n",
      "Step:  40 \tAt cumulative distance:  88.21241720230647\n",
      "Step:  41 \tAt cumulative distance:  90.4315975093553\n",
      "Step:  42 \tAt cumulative distance:  92.65077781640413\n",
      "Step:  43 \tAt cumulative distance:  94.86995812319573\n",
      "Step:  44 \tAt cumulative distance:  97.08913843024456\n",
      "Step:  45 \tAt cumulative distance:  99.30831873729339\n",
      "Step:  46 \tAt cumulative distance:  101.52749904431774\n",
      "Step:  47 \tAt cumulative distance:  103.74667935113382\n",
      "Step:  48 \tAt cumulative distance:  105.96585965818265\n",
      "Step:  49 \tAt cumulative distance:  108.185039965207\n",
      "Step:  50 \tAt cumulative distance:  110.40422027202308\n",
      "Step:  51 \tAt cumulative distance:  112.67860599342818\n",
      "Step:  52 \tAt cumulative distance:  114.81268964310084\n",
      "Step:  53 \tAt cumulative distance:  116.9467732927735\n",
      "Step:  54 \tAt cumulative distance:  119.08085694244616\n",
      "Step:  55 \tAt cumulative distance:  121.21494059211882\n",
      "Step:  56 \tAt cumulative distance:  123.34902424206689\n",
      "Step:  57 \tAt cumulative distance:  125.48310789173955\n",
      "Step:  58 \tAt cumulative distance:  127.61719154141221\n",
      "Step:  59 \tAt cumulative distance:  129.7512751910849\n",
      "Step:  60 \tAt cumulative distance:  131.88535884075756\n",
      "Step:  61 \tAt cumulative distance:  134.01944249043024\n",
      "Step:  62 \tAt cumulative distance:  136.15352614037832\n",
      "Step:  63 \tAt cumulative distance:  138.287609790051\n",
      "Step:  64 \tAt cumulative distance:  140.42169343972367\n",
      "Step:  65 \tAt cumulative distance:  142.55577708939634\n",
      "Step:  66 \tAt cumulative distance:  144.68986073906902\n",
      "Step:  67 \tAt cumulative distance:  146.8239443887417\n",
      "Step:  68 \tAt cumulative distance:  148.95802803868978\n",
      "Step:  69 \tAt cumulative distance:  151.09211168858485\n",
      "Step:  70 \tAt cumulative distance:  153.22619533825753\n",
      "Step:  71 \tAt cumulative distance:  155.3602789879302\n",
      "Step:  72 \tAt cumulative distance:  157.49436263760288\n",
      "Step:  73 \tAt cumulative distance:  159.62844628727555\n",
      "Step:  74 \tAt cumulative distance:  161.76252993722363\n",
      "Step:  75 \tAt cumulative distance:  163.8966135868963\n",
      "Step:  76 \tAt cumulative distance:  166.03069723656898\n",
      "Step:  77 \tAt cumulative distance:  168.16478088624166\n",
      "Step:  78 \tAt cumulative distance:  170.29886453591433\n",
      "Step:  79 \tAt cumulative distance:  172.432948185587\n",
      "Step:  80 \tAt cumulative distance:  174.5670318355351\n",
      "Step:  81 \tAt cumulative distance:  176.70111548520777\n",
      "Step:  82 \tAt cumulative distance:  178.83519913488044\n",
      "Step:  83 \tAt cumulative distance:  180.96928278455312\n",
      "Step:  84 \tAt cumulative distance:  182.91131378437342\n",
      "Step:  85 \tAt cumulative distance:  185.16784466681668\n",
      "Step:  86 \tAt cumulative distance:  187.42437554907917\n",
      "Step:  87 \tAt cumulative distance:  189.68090643134167\n",
      "Step:  88 \tAt cumulative distance:  191.93743731319782\n",
      "Step:  89 \tAt cumulative distance:  194.19396819546031\n",
      "Step:  90 \tAt cumulative distance:  196.4504990777228\n",
      "Step:  91 \tAt cumulative distance:  198.70702996016607\n",
      "Step:  92 \tAt cumulative distance:  200.96356084242856\n",
      "Step:  93 \tAt cumulative distance:  203.22009172410398\n",
      "Step:  94 \tAt cumulative distance:  205.47662260636648\n",
      "Step:  95 \tAt cumulative distance:  207.73315348880973\n",
      "Step:  96 \tAt cumulative distance:  209.98968437107223\n",
      "Step:  97 \tAt cumulative distance:  212.24621525333473\n",
      "Step:  98 \tAt cumulative distance:  214.50274613577798\n",
      "Step:  99 \tAt cumulative distance:  216.7592770174534\n",
      "Step:  100 \tAt cumulative distance:  219.0158078997159\n",
      "Step:  101 \tAt cumulative distance:  221.27233878215915\n",
      "Step:  102 \tAt cumulative distance:  223.52886966442165\n",
      "Step:  103 \tAt cumulative distance:  225.78540054668414\n",
      "Step:  104 \tAt cumulative distance:  228.0419314291274\n",
      "Step:  105 \tAt cumulative distance:  230.29846231080282\n",
      "Step:  106 \tAt cumulative distance:  232.55499319306531\n",
      "Step:  107 \tAt cumulative distance:  234.81152407550857\n",
      "Step:  108 \tAt cumulative distance:  237.06805495777107\n",
      "Step:  109 \tAt cumulative distance:  239.32458584003356\n",
      "Step:  110 \tAt cumulative distance:  241.58111672247682\n",
      "Step:  111 \tAt cumulative distance:  243.83764760415224\n",
      "Step:  112 \tAt cumulative distance:  246.09417848641473\n",
      "Step:  113 \tAt cumulative distance:  248.350709368858\n",
      "Step:  114 \tAt cumulative distance:  250.6072402511205\n",
      "Step:  115 \tAt cumulative distance:  252.86377113338298\n",
      "Step:  116 \tAt cumulative distance:  255.12030201523913\n",
      "Step:  117 \tAt cumulative distance:  257.37683289750163\n",
      "Step:  118 \tAt cumulative distance:  259.6333637797641\n",
      "Step:  119 \tAt cumulative distance:  261.8898946622074\n",
      "Step:  120 \tAt cumulative distance:  264.1464255444699\n",
      "Step:  121 \tAt cumulative distance:  266.4029564267324\n",
      "Step:  122 \tAt cumulative distance:  268.6594873084078\n",
      "Step:  123 \tAt cumulative distance:  270.91601819085105\n",
      "Step:  124 \tAt cumulative distance:  273.17254907311354\n",
      "Step:  125 \tAt cumulative distance:  275.42907995537604\n",
      "Step:  126 \tAt cumulative distance:  277.6856108378193\n",
      "Step:  127 \tAt cumulative distance:  279.9421417200818\n",
      "Step:  128 \tAt cumulative distance:  282.1986726017572\n",
      "Step:  129 \tAt cumulative distance:  284.45520348420047\n",
      "Step:  130 \tAt cumulative distance:  286.71173436646296\n",
      "Step:  131 \tAt cumulative distance:  288.96826524872546\n",
      "Step:  132 \tAt cumulative distance:  291.2247961311687\n",
      "Step:  133 \tAt cumulative distance:  293.4813270134312\n",
      "Step:  134 \tAt cumulative distance:  295.73785789510663\n",
      "Step:  135 \tAt cumulative distance:  297.9943887775499\n",
      "Step:  136 \tAt cumulative distance:  300.2509196598124\n",
      "Step:  137 \tAt cumulative distance:  302.5074505420749\n",
      "Step:  138 \tAt cumulative distance:  304.76398142451814\n",
      "Step:  139 \tAt cumulative distance:  307.02051230619355\n",
      "Step:  140 \tAt cumulative distance:  309.27704318845605\n",
      "Step:  141 \tAt cumulative distance:  311.5335740708993\n",
      "Step:  142 \tAt cumulative distance:  313.7901049531618\n",
      "Step:  143 \tAt cumulative distance:  316.0466358354243\n",
      "Step:  144 \tAt cumulative distance:  318.30316671786755\n",
      "Step:  145 \tAt cumulative distance:  320.559697599543\n",
      "Step:  146 \tAt cumulative distance:  322.81622848180547\n",
      "Step:  147 \tAt cumulative distance:  325.0727593642487\n",
      "Step:  148 \tAt cumulative distance:  327.3292902465112\n",
      "Step:  149 \tAt cumulative distance:  329.5858211287737\n"
     ]
    },
    {
     "name": "stdout",
     "output_type": "stream",
     "text": [
      "Step:  150 \tAt cumulative distance:  331.8423520110362\n",
      "Step:  151 \tAt cumulative distance:  333.89123345376925\n",
      "Step:  152 \tAt cumulative distance:  335.91850927712267\n",
      "Step:  153 \tAt cumulative distance:  337.94578510053964\n",
      "Step:  154 \tAt cumulative distance:  339.97306092389306\n",
      "Step:  155 \tAt cumulative distance:  342.0003367472465\n",
      "Step:  156 \tAt cumulative distance:  344.0276125705999\n",
      "Step:  157 \tAt cumulative distance:  346.05488839484923\n",
      "Step:  158 \tAt cumulative distance:  348.08216421820265\n",
      "Step:  159 \tAt cumulative distance:  350.10944004155607\n",
      "Step:  160 \tAt cumulative distance:  352.1367158649095\n",
      "Step:  161 \tAt cumulative distance:  354.1639916882629\n",
      "Step:  162 \tAt cumulative distance:  356.19126751161633\n",
      "Step:  163 \tAt cumulative distance:  358.21854333586566\n",
      "Step:  164 \tAt cumulative distance:  360.2458191592191\n",
      "Step:  165 \tAt cumulative distance:  362.27309498263605\n",
      "Step:  166 \tAt cumulative distance:  364.3003708059895\n",
      "Step:  167 \tAt cumulative distance:  366.3276466293429\n",
      "Step:  168 \tAt cumulative distance:  368.3549224526963\n",
      "Step:  169 \tAt cumulative distance:  370.38219827604973\n",
      "Step:  170 \tAt cumulative distance:  372.40947410029906\n",
      "Step:  171 \tAt cumulative distance:  374.4367499236525\n",
      "Step:  172 \tAt cumulative distance:  376.4640257470059\n",
      "Step:  173 \tAt cumulative distance:  378.4913015703593\n",
      "Step:  174 \tAt cumulative distance:  380.51857739371275\n",
      "Step:  175 \tAt cumulative distance:  382.54585321706617\n",
      "Step:  176 \tAt cumulative distance:  384.5731290404196\n",
      "Step:  177 \tAt cumulative distance:  386.6004048646689\n"
     ]
    }
   ],
   "source": [
    "slices = mesh_process.slices_from_pt_sequence(coords, rgb, xy_coords)"
   ]
  },
  {
   "cell_type": "code",
   "execution_count": 5,
   "metadata": {},
   "outputs": [],
   "source": [
    "import matplotlib.pyplot as plt\n",
    "\n",
    "first = slices[0.0]"
   ]
  },
  {
   "cell_type": "code",
   "execution_count": 7,
   "metadata": {},
   "outputs": [
    {
     "ename": "IndexError",
     "evalue": "index 1 is out of bounds for axis 0 with size 1",
     "output_type": "error",
     "traceback": [
      "\u001b[0;31m---------------------------------------------------------------------------\u001b[0m",
      "\u001b[0;31mIndexError\u001b[0m                                Traceback (most recent call last)",
      "\u001b[0;32m<ipython-input-7-68aa5d84dbc1>\u001b[0m in \u001b[0;36m<module>\u001b[0;34m()\u001b[0m\n\u001b[1;32m      6\u001b[0m \u001b[0;34m\u001b[0m\u001b[0m\n\u001b[1;32m      7\u001b[0m \u001b[0;32mfor\u001b[0m \u001b[0mi\u001b[0m \u001b[0;32min\u001b[0m \u001b[0mrange\u001b[0m\u001b[0;34m(\u001b[0m\u001b[0mz\u001b[0m\u001b[0;34m.\u001b[0m\u001b[0msize\u001b[0m\u001b[0;34m)\u001b[0m\u001b[0;34m:\u001b[0m\u001b[0;34m\u001b[0m\u001b[0m\n\u001b[0;32m----> 8\u001b[0;31m     \u001b[0max\u001b[0m\u001b[0;34m.\u001b[0m\u001b[0mscatter\u001b[0m\u001b[0;34m(\u001b[0m\u001b[0md\u001b[0m\u001b[0;34m[\u001b[0m\u001b[0mi\u001b[0m\u001b[0;34m]\u001b[0m\u001b[0;34m,\u001b[0m \u001b[0mz\u001b[0m\u001b[0;34m[\u001b[0m\u001b[0mi\u001b[0m\u001b[0;34m]\u001b[0m\u001b[0;34m,\u001b[0m \u001b[0mc\u001b[0m\u001b[0;34m=\u001b[0m\u001b[0mc\u001b[0m\u001b[0;34m[\u001b[0m\u001b[0mi\u001b[0m\u001b[0;34m]\u001b[0m\u001b[0;34m/\u001b[0m\u001b[0;36m255.0\u001b[0m\u001b[0;34m,\u001b[0m \u001b[0ms\u001b[0m\u001b[0;34m=\u001b[0m\u001b[0;36m3\u001b[0m\u001b[0;34m,\u001b[0m \u001b[0malpha\u001b[0m\u001b[0;34m=\u001b[0m\u001b[0;36m0.2\u001b[0m\u001b[0;34m)\u001b[0m\u001b[0;34m\u001b[0m\u001b[0m\n\u001b[0m",
      "\u001b[0;31mIndexError\u001b[0m: index 1 is out of bounds for axis 0 with size 1"
     ]
    },
    {
     "data": {
      "image/png": "[encoded data removed]",
      "text/plain": [
       "<matplotlib.figure.Figure at 0x7f17ad352748>"
      ]
     },
     "metadata": {},
     "output_type": "display_data"
    }
   ],
   "source": [
    "fig, ax = plt.subplots(figsize=(12,7*(129/50)))\n",
    "\n",
    "z = np.squeeze(first['zs'])\n",
    "d = np.squeeze(first['ds'])\n",
    "c = np.squeeze(first['clr'])\n",
    "    \n",
    "for i in range(z.size):\n",
    "    ax.scatter(d[i], z[i], c=c[i]/255.0, s=3, alpha=0.2)"
   ]
  },
  {
   "cell_type": "code",
   "execution_count": 18,
   "metadata": {},
   "outputs": [],
   "source": [
    "import pickle\n",
    "\n",
    "with open('../data/dense_slices_dict.pickle', 'wb') as handle:\n",
    "    pickle.dump(slices, handle, protocol=pickle.HIGHEST_PROTOCOL)"
   ]
  },
  {
   "cell_type": "code",
   "execution_count": null,
   "metadata": {},
   "outputs": [],
   "source": []
  }
 ],
 "metadata": {
  "kernelspec": {
   "display_name": "Python 3",
   "language": "python",
   "name": "python3"
  },
  "language_info": {
   "codemirror_mode": {
    "name": "ipython",
    "version": 3
   },
   "file_extension": ".py",
   "mimetype": "text/x-python",
   "name": "python",
   "nbconvert_exporter": "python",
   "pygments_lexer": "ipython3",
   "version": "3.6.4"
  }
 },
 "nbformat": 4,
 "nbformat_minor": 2
}
